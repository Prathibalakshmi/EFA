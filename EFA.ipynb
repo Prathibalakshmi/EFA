{
 "cells": [
  {
   "cell_type": "markdown",
   "metadata": {},
   "source": [
    "## Import the Libraries"
   ]
  },
  {
   "cell_type": "code",
   "execution_count": 2,
   "metadata": {},
   "outputs": [],
   "source": [
    "import numpy as np\n",
    "import pandas as pd\n",
    "import seaborn as sns\n",
    "import matplotlib.pyplot as plt"
   ]
  },
  {
   "cell_type": "code",
   "execution_count": 3,
   "metadata": {},
   "outputs": [
    {
     "data": {
      "text/html": [
       "<div>\n",
       "<style scoped>\n",
       "    .dataframe tbody tr th:only-of-type {\n",
       "        vertical-align: middle;\n",
       "    }\n",
       "\n",
       "    .dataframe tbody tr th {\n",
       "        vertical-align: top;\n",
       "    }\n",
       "\n",
       "    .dataframe thead th {\n",
       "        text-align: right;\n",
       "    }\n",
       "</style>\n",
       "<table border=\"1\" class=\"dataframe\">\n",
       "  <thead>\n",
       "    <tr style=\"text-align: right;\">\n",
       "      <th></th>\n",
       "      <th>cost</th>\n",
       "      <th>size</th>\n",
       "      <th>alcohol</th>\n",
       "      <th>reputat</th>\n",
       "      <th>color</th>\n",
       "      <th>aroma</th>\n",
       "      <th>taste</th>\n",
       "      <th>rnd1</th>\n",
       "      <th>rnd2</th>\n",
       "      <th>rnd3</th>\n",
       "      <th>rnd4</th>\n",
       "      <th>rnd5</th>\n",
       "      <th>rnd6</th>\n",
       "      <th>rnd7</th>\n",
       "    </tr>\n",
       "  </thead>\n",
       "  <tbody>\n",
       "    <tr>\n",
       "      <th>0</th>\n",
       "      <td>10</td>\n",
       "      <td>15</td>\n",
       "      <td>20</td>\n",
       "      <td>85</td>\n",
       "      <td>40</td>\n",
       "      <td>30</td>\n",
       "      <td>50</td>\n",
       "      <td>40</td>\n",
       "      <td>80</td>\n",
       "      <td>65</td>\n",
       "      <td>25</td>\n",
       "      <td>90</td>\n",
       "      <td>45</td>\n",
       "      <td>40</td>\n",
       "    </tr>\n",
       "    <tr>\n",
       "      <th>1</th>\n",
       "      <td>100</td>\n",
       "      <td>70</td>\n",
       "      <td>50</td>\n",
       "      <td>30</td>\n",
       "      <td>75</td>\n",
       "      <td>60</td>\n",
       "      <td>80</td>\n",
       "      <td>70</td>\n",
       "      <td>55</td>\n",
       "      <td>45</td>\n",
       "      <td>25</td>\n",
       "      <td>95</td>\n",
       "      <td>95</td>\n",
       "      <td>60</td>\n",
       "    </tr>\n",
       "    <tr>\n",
       "      <th>2</th>\n",
       "      <td>65</td>\n",
       "      <td>30</td>\n",
       "      <td>35</td>\n",
       "      <td>80</td>\n",
       "      <td>80</td>\n",
       "      <td>60</td>\n",
       "      <td>90</td>\n",
       "      <td>45</td>\n",
       "      <td>90</td>\n",
       "      <td>65</td>\n",
       "      <td>90</td>\n",
       "      <td>20</td>\n",
       "      <td>95</td>\n",
       "      <td>35</td>\n",
       "    </tr>\n",
       "    <tr>\n",
       "      <th>3</th>\n",
       "      <td>0</td>\n",
       "      <td>0</td>\n",
       "      <td>20</td>\n",
       "      <td>30</td>\n",
       "      <td>80</td>\n",
       "      <td>90</td>\n",
       "      <td>100</td>\n",
       "      <td>85</td>\n",
       "      <td>30</td>\n",
       "      <td>45</td>\n",
       "      <td>85</td>\n",
       "      <td>40</td>\n",
       "      <td>80</td>\n",
       "      <td>5</td>\n",
       "    </tr>\n",
       "    <tr>\n",
       "      <th>4</th>\n",
       "      <td>10</td>\n",
       "      <td>25</td>\n",
       "      <td>10</td>\n",
       "      <td>100</td>\n",
       "      <td>50</td>\n",
       "      <td>40</td>\n",
       "      <td>60</td>\n",
       "      <td>20</td>\n",
       "      <td>5</td>\n",
       "      <td>25</td>\n",
       "      <td>25</td>\n",
       "      <td>20</td>\n",
       "      <td>25</td>\n",
       "      <td>80</td>\n",
       "    </tr>\n",
       "  </tbody>\n",
       "</table>\n",
       "</div>"
      ],
      "text/plain": [
       "   cost  size  alcohol  reputat  color  aroma  taste  rnd1  rnd2  rnd3  rnd4  \\\n",
       "0    10    15       20       85     40     30     50    40    80    65    25   \n",
       "1   100    70       50       30     75     60     80    70    55    45    25   \n",
       "2    65    30       35       80     80     60     90    45    90    65    90   \n",
       "3     0     0       20       30     80     90    100    85    30    45    85   \n",
       "4    10    25       10      100     50     40     60    20     5    25    25   \n",
       "\n",
       "   rnd5  rnd6  rnd7  \n",
       "0    90    45    40  \n",
       "1    95    95    60  \n",
       "2    20    95    35  \n",
       "3    40    80     5  \n",
       "4    20    25    80  "
      ]
     },
     "execution_count": 3,
     "metadata": {},
     "output_type": "execute_result"
    }
   ],
   "source": [
    "df = pd.read_excel('beer_rnd.xlsx')\n",
    "df.head()"
   ]
  },
  {
   "cell_type": "code",
   "execution_count": 4,
   "metadata": {},
   "outputs": [
    {
     "data": {
      "text/plain": [
       "(99, 14)"
      ]
     },
     "execution_count": 4,
     "metadata": {},
     "output_type": "execute_result"
    }
   ],
   "source": [
    "df.shape"
   ]
  },
  {
   "cell_type": "code",
   "execution_count": 5,
   "metadata": {},
   "outputs": [
    {
     "name": "stdout",
     "output_type": "stream",
     "text": [
      "<class 'pandas.core.frame.DataFrame'>\n",
      "RangeIndex: 99 entries, 0 to 98\n",
      "Data columns (total 14 columns):\n",
      " #   Column   Non-Null Count  Dtype\n",
      "---  ------   --------------  -----\n",
      " 0   cost     99 non-null     int64\n",
      " 1   size     99 non-null     int64\n",
      " 2   alcohol  99 non-null     int64\n",
      " 3   reputat  99 non-null     int64\n",
      " 4   color    99 non-null     int64\n",
      " 5   aroma    99 non-null     int64\n",
      " 6   taste    99 non-null     int64\n",
      " 7   rnd1     99 non-null     int64\n",
      " 8   rnd2     99 non-null     int64\n",
      " 9   rnd3     99 non-null     int64\n",
      " 10  rnd4     99 non-null     int64\n",
      " 11  rnd5     99 non-null     int64\n",
      " 12  rnd6     99 non-null     int64\n",
      " 13  rnd7     99 non-null     int64\n",
      "dtypes: int64(14)\n",
      "memory usage: 11.0 KB\n"
     ]
    }
   ],
   "source": [
    "df.info()"
   ]
  },
  {
   "cell_type": "code",
   "execution_count": 11,
   "metadata": {},
   "outputs": [],
   "source": [
    "x = df.values\n",
    "Corr = np.corrcoef(x.T)"
   ]
  },
  {
   "cell_type": "code",
   "execution_count": 12,
   "metadata": {},
   "outputs": [
    {
     "data": {
      "text/plain": [
       "(14, 14)"
      ]
     },
     "execution_count": 12,
     "metadata": {},
     "output_type": "execute_result"
    }
   ],
   "source": [
    "Corr.shape"
   ]
  },
  {
   "cell_type": "code",
   "execution_count": 13,
   "metadata": {},
   "outputs": [
    {
     "data": {
      "image/png": "[encoded data removed]",
      "text/plain": [
       "<Figure size 648x504 with 2 Axes>"
      ]
     },
     "metadata": {
      "needs_background": "light"
     },
     "output_type": "display_data"
    }
   ],
   "source": [
    "plt.figure(figsize=(9,7))\n",
    "sns.heatmap(Corr, cmap='Blues')\n",
    "plt.title(\"Correlation Matrix\")\n",
    "plt.show()"
   ]
  },
  {
   "cell_type": "markdown",
   "metadata": {},
   "source": [
    "### Find $\\tilde{x}_{n}$ from $x_{n}$"
   ]
  },
  {
   "cell_type": "code",
   "execution_count": 14,
   "metadata": {},
   "outputs": [
    {
     "name": "stdout",
     "output_type": "stream",
     "text": [
      "(14, 99)\n"
     ]
    }
   ],
   "source": [
    "x_mean = np.mean(x, axis=0)\n",
    "x_n = (x - x_mean).T\n",
    "print(x_n.shape)"
   ]
  },
  {
   "cell_type": "code",
   "execution_count": 17,
   "metadata": {},
   "outputs": [
    {
     "data": {
      "text/plain": [
       "array([-17.77777778,  -7.22222222,  -3.88888889,  29.44444444,\n",
       "       -23.88888889, -26.11111111, -30.55555556,  -2.77777778,\n",
       "        27.57575758,  15.05050505, -21.51515152,  43.18181818,\n",
       "        -2.02020202, -11.61616162])"
      ]
     },
     "execution_count": 17,
     "metadata": {},
     "output_type": "execute_result"
    }
   ],
   "source": [
    "x_n[:,0]"
   ]
  },
  {
   "cell_type": "code",
   "execution_count": 18,
   "metadata": {},
   "outputs": [],
   "source": [
    "C1 = np.cov(x_n)\n",
    "eig_val, eig_vec = np.linalg.eig(C1)"
   ]
  },
  {
   "cell_type": "code",
   "execution_count": 19,
   "metadata": {},
   "outputs": [
    {
     "data": {
      "text/plain": [
       "array([1616.52626273, 1338.81303611,   65.30191908,    6.20935149,\n",
       "         17.81986474,   39.18349257,  303.1720361 ,  492.70349964,\n",
       "        976.95600869,  941.02288497,  890.46459407,  602.74579412,\n",
       "        695.5370284 ,  733.76170825])"
      ]
     },
     "execution_count": 19,
     "metadata": {},
     "output_type": "execute_result"
    }
   ],
   "source": [
    "eig_val"
   ]
  },
  {
   "cell_type": "markdown",
   "metadata": {},
   "source": [
    "### Get the top eigen values and eigen vectors"
   ]
  },
  {
   "cell_type": "code",
   "execution_count": 20,
   "metadata": {},
   "outputs": [
    {
     "name": "stdout",
     "output_type": "stream",
     "text": [
      "[1616.526262726838, 1338.8130361055892, 976.9560086867081]\n",
      "[array([ 0.70193013,  0.37201503,  0.2725436 , -0.32948115,  0.26089232,\n",
      "        0.14239528,  0.14929638,  0.1630631 , -0.02522316,  0.08848518,\n",
      "        0.17821216,  0.01762618, -0.01281384, -0.09022515]), array([ 0.28861251,  0.31249978,  0.06952238,  0.41877894, -0.30882442,\n",
      "       -0.41533076, -0.37304177,  0.33366758, -0.0672483 , -0.10673324,\n",
      "       -0.3129719 ,  0.03056463,  0.0527614 , -0.05373518]), array([ 0.12300754,  0.07872308,  0.04213548,  0.08747049, -0.03452337,\n",
      "       -0.08573623, -0.08696527, -0.46698381, -0.37250314, -0.05412334,\n",
      "        0.02298411, -0.11440093, -0.75987971,  0.04842517])]\n"
     ]
    }
   ],
   "source": [
    "# eig_sorted = np.sort(eig_val)[::-1]\n",
    "arg_sort = np.argsort(eig_val)[::-1]\n",
    "\n",
    "eig_vec_ls = []\n",
    "eig_val_ls = []\n",
    "imp_vec = arg_sort[:3]  \n",
    "\n",
    "for i in imp_vec:\n",
    "    lam = eig_val[i]\n",
    "    vec = eig_vec[:,i]\n",
    "    eig_val_ls.append(lam)\n",
    "    eig_vec_ls.append(vec)\n",
    "print(eig_val_ls)\n",
    "print(eig_vec_ls)"
   ]
  },
  {
   "cell_type": "markdown",
   "metadata": {},
   "source": [
    "### Estimate $V$"
   ]
  },
  {
   "cell_type": "code",
   "execution_count": 23,
   "metadata": {},
   "outputs": [
    {
     "name": "stdout",
     "output_type": "stream",
     "text": [
      "[[ 28.22183629  10.56027235   3.8447599 ]\n",
      " [ 14.95725385  11.43430264   2.46059196]\n",
      " [ 10.95790115   2.54380952   1.31699901]\n",
      " [-13.24713481  15.32303516   2.7340034 ]\n",
      " [ 10.48944915 -11.29982209  -1.07907277]\n",
      " [  5.72515136 -15.19686717  -2.67979693]\n",
      " [  6.00261733 -13.64952169  -2.7182121 ]\n",
      " [  6.55612267  12.20882815 -14.59618394]\n",
      " [ -1.01412339  -2.46060145 -11.64306814]\n",
      " [  3.55763937  -3.90534714  -1.69169522]\n",
      " [  7.16520659 -11.45157729   0.7183981 ]\n",
      " [  0.70867892   1.11835357  -3.57574919]\n",
      " [ -0.51519401   1.93052865 -23.75102478]\n",
      " [ -3.62759658  -1.96615922   1.51359157]]\n"
     ]
    }
   ],
   "source": [
    "eig_val_arr = np.array(eig_val_ls)\n",
    "lambda1 = np.diag(eig_val_arr)\n",
    "eig_vec_mat = np.matrix(eig_vec_ls).T\n",
    "V = eig_vec_mat@np.sqrt(lambda1)  ## np.matmul() matrix multiplication\n",
    "# V = np.matmul(eig_vec_mat,np.sqrt(lambda1))\n",
    "print(V)"
   ]
  },
  {
   "cell_type": "markdown",
   "metadata": {},
   "source": [
    "### Compute $\\sigma^{2}_{i}, i=0,1,2...$ and estimate S"
   ]
  },
  {
   "cell_type": "code",
   "execution_count": 29,
   "metadata": {},
   "outputs": [
    {
     "name": "stdout",
     "output_type": "stream",
     "text": [
      "(14, 14)\n"
     ]
    }
   ],
   "source": [
    "var_ls = []\n",
    "x_var = np.var(x_n, axis=1)\n",
    "\n",
    "for i in range(V.shape[0]):\n",
    "    s = np.sum(np.square(np.ravel(V[i,:])))\n",
    "    sig_2 = x_var[i] - s\n",
    "    var_ls.append(sig_2)\n",
    "S = np.diag(np.array(var_ls))\n",
    "print(S.shape)"
   ]
  },
  {
   "cell_type": "markdown",
   "metadata": {},
   "source": [
    "### Dimensionality reduction transformation"
   ]
  },
  {
   "cell_type": "code",
   "execution_count": 30,
   "metadata": {},
   "outputs": [
    {
     "name": "stdout",
     "output_type": "stream",
     "text": [
      "(3, 14)\n"
     ]
    }
   ],
   "source": [
    "C1_inv = np.linalg.inv(C1)\n",
    "W = V.T@C1_inv\n",
    "print(W.shape)"
   ]
  },
  {
   "cell_type": "code",
   "execution_count": 31,
   "metadata": {},
   "outputs": [
    {
     "data": {
      "text/plain": [
       "matrix([[ 0.01745832,  0.00925271,  0.00677867, -0.00819482,  0.00648888,\n",
       "          0.00354164,  0.00371328,  0.00405569, -0.00062735,  0.00220079,\n",
       "          0.00443247,  0.0004384 , -0.0003187 , -0.00224407],\n",
       "        [ 0.00788779,  0.00854063,  0.00190005,  0.01144524, -0.00844018,\n",
       "         -0.011351  , -0.01019524,  0.00911914, -0.0018379 , -0.00291702,\n",
       "         -0.00855353,  0.00083533,  0.00144197, -0.00146858],\n",
       "        [ 0.00393545,  0.00251863,  0.00134806,  0.00279849, -0.00110453,\n",
       "         -0.00274301, -0.00278233, -0.01494047, -0.0119177 , -0.0017316 ,\n",
       "          0.00073534, -0.00366009, -0.02431125,  0.00154929]])"
      ]
     },
     "execution_count": 31,
     "metadata": {},
     "output_type": "execute_result"
    }
   ],
   "source": [
    "W"
   ]
  },
  {
   "cell_type": "code",
   "execution_count": 33,
   "metadata": {},
   "outputs": [
    {
     "data": {
      "text/plain": [
       "(99, 3)"
      ]
     },
     "execution_count": 33,
     "metadata": {},
     "output_type": "execute_result"
    }
   ],
   "source": [
    "z = W@x_n\n",
    "z1 = z.T\n",
    "z1.shape"
   ]
  },
  {
   "cell_type": "markdown",
   "metadata": {},
   "source": [
    "### Scatter the data in a 3-d plane"
   ]
  },
  {
   "cell_type": "code",
   "execution_count": 36,
   "metadata": {},
   "outputs": [
    {
     "data": {
      "image/png": "[encoded data removed]",
      "text/plain": [
       "<Figure size 648x504 with 1 Axes>"
      ]
     },
     "metadata": {
      "needs_background": "light"
     },
     "output_type": "display_data"
    }
   ],
   "source": [
    "from mpl_toolkits import mplot3d\n",
    "fig = plt.figure(figsize=(9,7))\n",
    "ax = plt.axes(projection=\"3d\")\n",
    "ax.scatter(np.ravel(z1[:,0]), np.ravel(z1[:,1]), np.ravel(z1[:,2]),color='green')\n",
    "plt.title(\"3D projection of data\")\n",
    "plt.show()"
   ]
  },
  {
   "cell_type": "code",
   "execution_count": null,
   "metadata": {},
   "outputs": [],
   "source": []
  }
 ],
 "metadata": {
  "kernelspec": {
   "display_name": "Python 3 (ipykernel)",
   "language": "python",
   "name": "python3"
  },
  "language_info": {
   "codemirror_mode": {
    "name": "ipython",
    "version": 3
   },
   "file_extension": ".py",
   "mimetype": "text/x-python",
   "name": "python",
   "nbconvert_exporter": "python",
   "pygments_lexer": "ipython3",
   "version": "3.10.9"
  },
  "vscode": {
   "interpreter": {
    "hash": "e0105ac9406840dc292ffde5e398b59ab58478a652bb16a9603dc66a7e7ff2c1"
   }
  }
 },
 "nbformat": 4,
 "nbformat_minor": 2
}
